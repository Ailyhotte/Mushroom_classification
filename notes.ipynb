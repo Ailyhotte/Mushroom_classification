{
 "cells": [
  {
   "cell_type": "markdown",
   "id": "984070b7",
   "metadata": {},
   "source": [
    "# Objectif : 70% d'accuracy sur le model"
   ]
  },
  {
   "cell_type": "markdown",
   "id": "ffc7a385",
   "metadata": {},
   "source": [
    "# Exploratory Data Analysis"
   ]
  },
  {
   "cell_type": "markdown",
   "id": "1b21101b",
   "metadata": {},
   "source": [
    "Variable target : class  \n",
    "Lignes et colonnes : 8124 lignes, 23 colonnes  \n",
    "Types de variables : 23 qualitatives, pas de qualitatives   \n",
    "Analyse des valeurs manquantes : Aucune valeurs manquantes"
   ]
  },
  {
   "cell_type": "markdown",
   "id": "2c8a0dab",
   "metadata": {},
   "source": [
    "Visualisation de la target : 4208 edible et 3916 poisonous or not sure, environ 50/50    \n",
    "\n",
    "Analyse variables qualitatives : Variables allant de 1 à 12 possibilités  \n",
    "  \n",
    "Relation intéréssantes : les variables odor, gill_size, gill_color, stalk-surface(above and bellow)-ring, spore-print-color et population semblent assez différentes selon le type de champignon\n"
   ]
  },
  {
   "cell_type": "markdown",
   "id": "93ec320f",
   "metadata": {},
   "source": [
    "# Preprocessing    "
   ]
  },
  {
   "cell_type": "markdown",
   "id": "d8af4e4a",
   "metadata": {},
   "source": [
    "OneHotEncoder pour toutes les features car elles sont toutes qualitatives\n",
    "\n",
    "LabelEncoder pour la target\n",
    "\n",
    "Pas besoin de faire de l'imputing car aucune valeur manquante"
   ]
  },
  {
   "cell_type": "markdown",
   "id": "d9d9e1b0",
   "metadata": {},
   "source": [
    "# Modellisation"
   ]
  },
  {
   "cell_type": "markdown",
   "id": "fa471539",
   "metadata": {},
   "source": [
    "Tous les models ont une accuracy de 100%, cependant la random forest et l'adaboost ont l'air plus performants plus vite"
   ]
  },
  {
   "cell_type": "markdown",
   "id": "42263f21",
   "metadata": {},
   "source": [
    "On peut rapidement regarder l'importance des features pour voir si il serait utile d'en rejeter certaines afin d'aléger notre model  \n",
    "On remarque que selon nos models, entre trois et 5 ou 7 features seraient suffisantes, et l'on pourrait pour cela définir un seuil."
   ]
  },
  {
   "cell_type": "code",
   "execution_count": null,
   "id": "2c16a62a",
   "metadata": {},
   "outputs": [],
   "source": [
    "    "
   ]
  }
 ],
 "metadata": {
  "kernelspec": {
   "display_name": "Python 3 (ipykernel)",
   "language": "python",
   "name": "python3"
  },
  "language_info": {
   "codemirror_mode": {
    "name": "ipython",
    "version": 3
   },
   "file_extension": ".py",
   "mimetype": "text/x-python",
   "name": "python",
   "nbconvert_exporter": "python",
   "pygments_lexer": "ipython3",
   "version": "3.9.18"
  }
 },
 "nbformat": 4,
 "nbformat_minor": 5
}
